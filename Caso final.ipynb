{
 "cells": [
  {
   "cell_type": "code",
   "execution_count": 178,
   "metadata": {},
   "outputs": [],
   "source": [
    "import numpy as np\n",
    "import math\n",
    "import pandas as pd\n",
    "\n",
    "prim_position = 1\n",
    "primes = [[1,2]]\n",
    "#Paso 1\n",
    "for x in range(3,1000):\n",
    "    for i in range(2,x):\n",
    "        if x % i == 0:\n",
    "            is_prime = False\n",
    "            break\n",
    "    if i == x-1:\n",
    "        prim_position += 1\n",
    "        is_prime = True\n",
    "        primes.append([prim_position,x])"
   ]
  },
  {
   "cell_type": "code",
   "execution_count": 179,
   "metadata": {},
   "outputs": [],
   "source": [
    "#Paso2\n",
    "primes1 = pd.DataFrame(primes, columns = [\"Position\",\"Primo\"])\n",
    "result = []\n",
    "for x in primes1[\"Primo\"]:\n",
    "    list_of_digits = []\n",
    "    for digit in str(x):\n",
    "        list_of_digits.append(int(digit))\n",
    "    result.append(math.prod(list_of_digits))  \n",
    "\n",
    "primes1[\"prod\"] = result\n",
    "result2 = pd.DataFrame(result,columns=[\"Result\"])\n",
    "position = np.array(range(1,len(result2)+1,1))\n",
    "result2[\"Position\"] = position\n",
    "result2 = result2.set_index(\"Position\")"
   ]
  },
  {
   "cell_type": "code",
   "execution_count": 180,
   "metadata": {},
   "outputs": [],
   "source": [
    "#Paso3\n",
    "check = []\n",
    "for x in range(1,len(position)+1,1):\n",
    "    if result2.index[x-1] == result2[\"Result\"][x]:\n",
    "        check1 = True\n",
    "    else:\n",
    "        check1 = False\n",
    "    check.append(check1)\n",
    "\n",
    "result2[\"check\"] = check\n",
    "primes1[\"check\"] = check\n",
    "primes2 = primes1[primes1[\"check\"] == True]\n"
   ]
  },
  {
   "cell_type": "code",
   "execution_count": 181,
   "metadata": {},
   "outputs": [],
   "source": [
    "#Paso 4\n",
    "def invert(n):\n",
    "    num = 0\n",
    "    while n != 0:\n",
    "        num = 10*num+n % 10\n",
    "        n //= 10\n",
    "    return num\n",
    "\n",
    "invert11 = []\n",
    "for x in primes2[\"Primo\"]:\n",
    "    mirror_num = invert(x)\n",
    "    invert11.append(mirror_num)\n",
    "\n",
    "primes2.insert(4,\"mirror\",invert11,True)"
   ]
  },
  {
   "cell_type": "code",
   "execution_count": 182,
   "metadata": {},
   "outputs": [],
   "source": [
    "#Paso5\n",
    "mirror_pos = []\n",
    "for i in primes2[\"mirror\"]:\n",
    "    mp = int(primes1[primes1[\"Primo\"] == i][\"Position\"])\n",
    "    mirror_pos.append(mp)\n",
    "\n",
    "primes2.insert(5,\"mirror_pos\",mirror_pos,True)"
   ]
  },
  {
   "cell_type": "code",
   "execution_count": 183,
   "metadata": {},
   "outputs": [],
   "source": [
    "#Paso6\n",
    "rev = []\n",
    "for i in range(len(primes2)):\n",
    "    mpr = primes2.iloc[[i],[5]]\n",
    "    mpr1 = invert(list(mpr[\"mirror_pos\"])[0])\n",
    "    \n",
    "    pos = primes2.iloc[[i],[0]]\n",
    "    pos1 = list(pos[\"Position\"])[0]\n",
    "\n",
    "    if pos1 == mpr1:\n",
    "        acc = True\n",
    "    else:\n",
    "        acc = False\n",
    "    rev.append(acc)\n",
    "\n",
    "primes2.insert(6,\"revi\",rev,True)"
   ]
  },
  {
   "cell_type": "code",
   "execution_count": 184,
   "metadata": {},
   "outputs": [
    {
     "name": "stdout",
     "output_type": "stream",
     "text": [
      "Los números con las caracteristicas requeridas son:\n",
      "[73]\n"
     ]
    }
   ],
   "source": [
    "#Resultado\n",
    "primes3 = primes2[primes2[\"revi\"] == True]\n",
    "final = list(primes3[\"Primo\"])\n",
    "print(\"Los números con las caracteristicas requeridas son:\")\n",
    "print(final)"
   ]
  }
 ],
 "metadata": {
  "kernelspec": {
   "display_name": "Python 3",
   "language": "python",
   "name": "python3"
  },
  "language_info": {
   "codemirror_mode": {
    "name": "ipython",
    "version": 3
   },
   "file_extension": ".py",
   "mimetype": "text/x-python",
   "name": "python",
   "nbconvert_exporter": "python",
   "pygments_lexer": "ipython3",
   "version": "3.11.1"
  },
  "orig_nbformat": 4,
  "vscode": {
   "interpreter": {
    "hash": "4cf35bdaa85383ec1f4141512c9cfc7f0ab92f232e1628321d3656b054ecfa22"
   }
  }
 },
 "nbformat": 4,
 "nbformat_minor": 2
}
